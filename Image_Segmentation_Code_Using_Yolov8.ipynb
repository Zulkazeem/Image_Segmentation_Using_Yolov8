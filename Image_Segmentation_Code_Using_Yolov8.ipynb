{
 "cells": [
  {
   "cell_type": "markdown",
   "id": "1c7ce4dd",
   "metadata": {},
   "source": [
    "# Loading the libraries"
   ]
  },
  {
   "cell_type": "code",
   "execution_count": null,
   "id": "1976b4fe",
   "metadata": {},
   "outputs": [],
   "source": [
    "#Download ultralytics and import\n",
    "\n",
    "from ultralytics import YOLO\n",
    "import os"
   ]
  },
  {
   "cell_type": "code",
   "execution_count": null,
   "id": "7529cdbc",
   "metadata": {},
   "outputs": [],
   "source": [
    "#Importing other libraries(to avoid loading the ultralltics again)\n",
    "\n",
    "import os\n",
    "from pathlib import Path\n",
    "import numpy as np\n",
    "import cv2 "
   ]
  },
  {
   "cell_type": "markdown",
   "id": "536dbd35",
   "metadata": {},
   "source": [
    "# Training the model"
   ]
  },
  {
   "cell_type": "code",
   "execution_count": null,
   "id": "36b39a80",
   "metadata": {},
   "outputs": [],
   "source": [
    "#load the ultralitics model\n",
    "#either a new model from scrath or already pretrained model\n",
    "#for this training, a pretrained model will be used\n",
    "\n",
    "model = YOLO('yolov8m-seg.pt')"
   ]
  },
  {
   "cell_type": "code",
   "execution_count": null,
   "id": "b4cf7ab7",
   "metadata": {},
   "outputs": [],
   "source": [
    "#Training the model \n",
    "\n",
    "data.yaml = \"data.yaml\" #this contains the path to your training and test set\n",
    "results = model.train(data = data, epochs = 100)"
   ]
  },
  {
   "cell_type": "code",
   "execution_count": null,
   "id": "c0b1b1c7",
   "metadata": {},
   "outputs": [],
   "source": [
    "#evaluating the models performance on a validation dataset\n",
    "\n",
    "model_path = \"path_to_trained_model\"\n",
    "model = YOLO(model_path)\n",
    "evaluate = model.val() # no arguments needed, dataset and settings remembered\n",
    "evaluate.box.map    # map50-95(B)\n",
    "evaluate.box.map50  # map50(B)\n",
    "evaluate.box.map75  # map75(B)\n",
    "evaluate.box.maps   # a list contains map50-95(B) of each category"
   ]
  },
  {
   "cell_type": "markdown",
   "id": "e278f1ef",
   "metadata": {},
   "source": [
    "# Loading the Trained Model"
   ]
  },
  {
   "cell_type": "code",
   "execution_count": null,
   "id": "1da8843a",
   "metadata": {},
   "outputs": [],
   "source": [
    "#Already trained model\n",
    "model_path = \"path_to_trained_model\""
   ]
  },
  {
   "cell_type": "markdown",
   "id": "7e687e51",
   "metadata": {},
   "source": [
    "# Single Image Segmentation"
   ]
  },
  {
   "cell_type": "code",
   "execution_count": null,
   "id": "a3e27dc0",
   "metadata": {},
   "outputs": [],
   "source": [
    "def single_image_detection(image_path, model_path, output_folder):\n",
    "    # Load the model\n",
    "    model = YOLO(model_path)\n",
    "    \n",
    "    # Run inference using the trained model\n",
    "    pred = model.predict(source=image_path, save=True)\n",
    "    \n",
    "    # Check if predictions exist\n",
    "    if pred:\n",
    "        print(f\"Objects detected in {image_path}\")\n",
    "    else:\n",
    "        print(f\"No objects detected in {image_path}\")\n",
    "        return\n",
    "    \n",
    "    # Ensure the output folder exists\n",
    "    output_folder = Path(output_folder)\n",
    "    output_folder.mkdir(parents=True, exist_ok=True)\n",
    "    \n",
    "    # Iterate through each prediction result\n",
    "    for r in pred:\n",
    "        img = np.copy(r.orig_img)\n",
    "        img_name = Path(r.path).stem\n",
    "        \n",
    "        # Iterate each object contour\n",
    "        for ci, c in enumerate(r):\n",
    "            labels = c.names\n",
    "            boxes_cls = c.boxes.cls.tolist()\n",
    "\n",
    "            # Ensure there are labels and classes\n",
    "            if labels and boxes_cls:\n",
    "                label = labels[boxes_cls.pop()]\n",
    "\n",
    "                # OPTIONAL: detection crop\n",
    "                x1, y1, x2, y2 = c.boxes.xyxy.cpu().numpy().squeeze().astype(np.int32)\n",
    "\n",
    "                # Ensure valid bounding box coordinates\n",
    "                if x1 < x2 and y1 < y2:\n",
    "                    # Crop the object\n",
    "                    cropped_object = img[y1:y2, x1:x2]\n",
    "\n",
    "                    # Save the cropped object\n",
    "                    output_path = output_folder / f\"{img_name}_{label}_{ci}.png\"\n",
    "                    cv2.imwrite(str(output_path), cropped_object)\n",
    "                else:\n",
    "                    print(f\"Ignore invalid bounding box for {img_name}_{label}_{ci}\")\n",
    "            else:\n",
    "                print(f\"Ignore empty label or class for {img_name}_{ci}\")"
   ]
  },
  {
   "cell_type": "code",
   "execution_count": null,
   "id": "9ba04e36",
   "metadata": {},
   "outputs": [],
   "source": [
    "# Example usage:\n",
    "image_path = \"path_to_trained_model\"\n",
    "model = YOLO(model_path)\n",
    "output_folder = Path(\"path_to_output_folder\")\n",
    "single_image_detection(image_path, model_path, output_folder)"
   ]
  },
  {
   "cell_type": "code",
   "execution_count": null,
   "id": "fe153a84",
   "metadata": {},
   "outputs": [],
   "source": [
    "#showing single result\n",
    "for result in pred:\n",
    "    boxes = result.boxes  # Boxes object for bounding box outputs\n",
    "    masks = result.masks  # Masks object for segmentation masks outputs\n",
    "    keypoints = result.keypoints  # Keypoints object for pose outputs\n",
    "    probs = result.probs  # Probs object for classification outputs\n",
    "    result.show()  # display to screen\n",
    "    result.save(filename='result.jpg')  # save to disk"
   ]
  },
  {
   "cell_type": "code",
   "execution_count": null,
   "id": "aec34cac",
   "metadata": {},
   "outputs": [],
   "source": [
    "#Saving it into multiples files for images with segementation and images without segmentation\n",
    "#Define image(s) source directory and destination directory\n",
    "\n",
    "#path to folder containg the images to be segmented\n",
    "folder_path = \"path_to images_to_be_segmented\"\n",
    "\n",
    "# Create a folder to save the cropped images\n",
    "crop_folder = \"path_to_save_croppedImage\" #if you want the image to be cropped into various paths\n",
    "crop_output_folder = Path(crop_folder)\n",
    "crop_output_folder.mkdir(exist_ok=True)\n",
    "\n",
    "\n",
    "# Define the folder paths for detected and undetected images\n",
    "segmented_images_dir = Path(\"path_to_save_segmented_images\")\n",
    "unsegmented_images_dir = Path(\"path_to_save_segmented_images\")"
   ]
  },
  {
   "cell_type": "markdown",
   "id": "895fdcec",
   "metadata": {},
   "source": [
    "# Trial( Segmentation by looping through images in a folder)"
   ]
  },
  {
   "cell_type": "code",
   "execution_count": null,
   "id": "b7f46494",
   "metadata": {},
   "outputs": [],
   "source": [
    "#mASS sEGMENTATION whne given a folder\n",
    "def crop_images_and_save(input_folder, output_folder, model_path):\n",
    "    # Loop through each image in the input folder\n",
    "    for img_file in os.listdir(input_folder):\n",
    "        if img_file.endswith((\".jpg\", \".jpeg\", \".png\")):\n",
    "            img_path = os.path.join(input_folder, img_file)\n",
    "\n",
    "            # Run inference using trained model\n",
    "            pred_model = YOLO(model_path)\n",
    "            pred = pred_model.predict(source=img_path, save_txt=False, line_width=2, \n",
    "                                      show_labels=False, save_crop=True, \n",
    "                                      show=False, save=True, conf=0.2)\n",
    "            \n",
    "            if pred:\n",
    "                print(f\"Objects detected in {image_path}\")\n",
    "            else:\n",
    "                print(f\"No objects detected in {image_path}\")\n",
    "\n",
    "            # Create a subfolder in the output directory with the same name as the input folder\n",
    "            output_subfolder = os.path.join(output_folder, os.path.basename(input_folder))\n",
    "            os.makedirs(output_subfolder, exist_ok=True)\n",
    "\n",
    "            # Assuming `pred` contains the prediction results\n",
    "            for r in pred:\n",
    "                img = np.copy(r.orig_img)\n",
    "                img_name = Path(r.path).stem\n",
    "\n",
    "                # Create a sub-subfolder with the name of the image\n",
    "                img_output_folder = os.path.join(output_subfolder, img_name)\n",
    "                os.makedirs(img_output_folder, exist_ok=True)\n",
    "\n",
    "                # Iterate each object contour\n",
    "                for ci, c in enumerate(r):\n",
    "                    labels = c.names\n",
    "                    boxes_cls = c.boxes.cls.tolist()\n",
    "\n",
    "                    # Ensure there are labels and classes\n",
    "                    if labels and boxes_cls:\n",
    "                        label = labels[boxes_cls.pop()]\n",
    "\n",
    "                        # OPTIONAL: detection crop\n",
    "                        x1, y1, x2, y2 = c.boxes.xyxy.cpu().numpy().squeeze().astype(np.int32)\n",
    "\n",
    "                        # Ensure valid bounding box coordinates\n",
    "                        if x1 < x2 and y1 < y2:\n",
    "                            # Crop the object\n",
    "                            cropped_object = img[y1:y2, x1:x2]\n",
    "\n",
    "                            # Save the cropped object\n",
    "                            output_path = os.path.join(img_output_folder, f\"{img_name}_{label}_{ci}.png\")\n",
    "                            cv2.imwrite(output_path, cropped_object)\n",
    "                        else:\n",
    "                            print(f\"Ignore invalid bounding box for {img_name}_{label}_{ci}\")\n",
    "                    else:\n",
    "                        print(f\"Ignore empty label or class for {img_name}_{ci}\")"
   ]
  },
  {
   "cell_type": "code",
   "execution_count": null,
   "id": "8f0c55e6",
   "metadata": {},
   "outputs": [],
   "source": [
    "input_folder = \"path_to_folder\"\n",
    "output_folder = \"path_to_output_folder\"\n",
    "model = YOLO(model_path)\n",
    "\n",
    "crop_images_and_save(input_folder, output_folder, model_path)"
   ]
  },
  {
   "cell_type": "markdown",
   "id": "2928fad1",
   "metadata": {},
   "source": [
    "# Mass segmentation by looping through subfolders in a larger (root) folder"
   ]
  },
  {
   "cell_type": "markdown",
   "id": "aa0005e8",
   "metadata": {},
   "source": [
    "# Creating matching subfolders in the output directory"
   ]
  },
  {
   "cell_type": "code",
   "execution_count": null,
   "id": "0a44df56",
   "metadata": {},
   "outputs": [],
   "source": [
    "#Creating subfolders of same name somwher else\n",
    "def create_subfolders(source_folder, destination_folder):\n",
    "    # Get the list of subfolder names from the source folder\n",
    "    subfolders = [name for name in os.listdir(source_folder) if os.path.isdir(os.path.join(source_folder, name))]\n",
    "    \n",
    "    # Iterate through each subfolder name\n",
    "    for subfolder in subfolders:\n",
    "        # Create the corresponding subfolder in the destination folder\n",
    "        subfolder_path = os.path.join(destination_folder, subfolder)\n",
    "        os.makedirs(subfolder_path, exist_ok=True)  # Create subfolder if it doesn't exist already\n",
    "\n",
    "# Example usage:\n",
    "source_folder = \"path_to_source_folder\"  # Specify the full path to the source folder on the external hard drive\n",
    "destination_folder = \"path_to_external_folder\"   # Specify the path to the destination folder on your local drive\n",
    "\n",
    "create_subfolders(source_folder_external, destination_folder)"
   ]
  },
  {
   "cell_type": "code",
   "execution_count": null,
   "id": "d96d714a",
   "metadata": {},
   "outputs": [],
   "source": [
    "#mASS sEGMENTATION loops through subfolders in a folder\n",
    "\n",
    "def crop_images_and_save(input_folder, output_folder, model_path):\n",
    "    # Loop through each subfolder in the input folder\n",
    "    for subfolder in os.listdir(input_folder):\n",
    "        subfolder_path = os.path.join(input_folder, subfolder)\n",
    "        if os.path.isdir(subfolder_path):\n",
    "            # Loop through each image in the subfolder\n",
    "            for img_file in os.listdir(subfolder_path):\n",
    "                if img_file.endswith((\".jpg\", \".jpeg\", \".png\")):\n",
    "                    img_path = os.path.join(subfolder_path, img_file)\n",
    "\n",
    "                    # Run inference using trained model\n",
    "                    pred_model = YOLO(model_path)\n",
    "                    pred = pred_model.predict(source=img_path, save_txt=False, line_thickness=2, \n",
    "                                              hide_labels=False, hide_conf=False, save_crop=True, \n",
    "                                              show=False, save=True, conf=0.2)\n",
    "                    \n",
    "                    if pred:\n",
    "                        print(f\"Objects detected in {img_path}\")\n",
    "                    else:\n",
    "                        print(f\"No objects detected in {img_path}\")\n",
    "\n",
    "                    # Create a subfolder in the output directory with the same name as the input subfolder\n",
    "                    output_subfolder = os.path.join(output_folder, subfolder)\n",
    "                    os.makedirs(output_subfolder, exist_ok=True)\n",
    "\n",
    "                    # Assuming `pred` contains the prediction results\n",
    "                    for r in pred:\n",
    "                        img = np.copy(r.orig_img)\n",
    "                        img_name = Path(r.path).stem\n",
    "\n",
    "                        # Create a sub-subfolder with the name of the image\n",
    "                        img_output_folder = os.path.join(output_subfolder, img_name)\n",
    "                        os.makedirs(img_output_folder, exist_ok=True)\n",
    "\n",
    "                        # Iterate each object contour\n",
    "                        for ci, c in enumerate(r):\n",
    "                            labels = c.names\n",
    "                            boxes_cls = c.boxes.cls.tolist()\n",
    "\n",
    "                            # Ensure there are labels and classes\n",
    "                            if labels and boxes_cls:\n",
    "                                label = labels[boxes_cls.pop()]\n",
    "\n",
    "                                # OPTIONAL: detection crop\n",
    "                                x1, y1, x2, y2 = c.boxes.xyxy.cpu().numpy().squeeze().astype(np.int32)\n",
    "\n",
    "                                # Ensure valid bounding box coordinates\n",
    "                                if x1 < x2 and y1 < y2:\n",
    "                                    # Crop the object\n",
    "                                    cropped_object = img[y1:y2, x1:x2]\n",
    "\n",
    "                                    # Save the cropped object\n",
    "                                    output_path = os.path.join(img_output_folder, f\"{img_name}_{label}_{ci}.png\")\n",
    "                                    cv2.imwrite(output_path, cropped_object)\n",
    "                                else:\n",
    "                                    print(f\"Ignore invalid bounding box for {img_name}_{label}_{ci}\")\n",
    "                            else:\n",
    "                                print(f\"Ignore empty label or class for {img_name}_{ci}\")\n"
   ]
  },
  {
   "cell_type": "code",
   "execution_count": null,
   "id": "a52ba8cb",
   "metadata": {},
   "outputs": [],
   "source": [
    "# Usage\n",
    "input_folder = \"path_to_folder_containing_subfolders\"\n",
    "output_folder = \"path_to_output_folder\"\n",
    "model = YOLO(model_path)\n",
    "\n",
    "\n",
    "crop_images_and_save(input_folder, output_folder, model_path)"
   ]
  },
  {
   "cell_type": "code",
   "execution_count": null,
   "id": "2b7e79b5",
   "metadata": {},
   "outputs": [],
   "source": [
    "#To export the result into various formats\n",
    "pred_model.export(format = \"onnx\") #specifyt the needed format\n",
    "results = pred_model.cpu()"
   ]
  },
  {
   "cell_type": "code",
   "execution_count": null,
   "id": "ab33fdb3",
   "metadata": {},
   "outputs": [],
   "source": [
    "#reference\n",
    "@software{yolov8_ultralytics,\n",
    "\n",
    " author = {Glenn Jocher and Ayush Chaurasia and Jing Qiu},\n",
    "\n",
    " title = {Ultralytics YOLOv8},\n",
    "\n",
    " version = {8.0.0},\n",
    "\n",
    " year = {2023},\n",
    "\n",
    " url = {https://github.com/ultralytics/ultralytics},\n",
    "\n",
    " orcid = {0000-0001-5950-6979, 0000-0002-7603-6750, 0000-0003-3783-7069},\n",
    "\n",
    " license = {AGPL-3.0}"
   ]
  }
 ],
 "metadata": {
  "kernelspec": {
   "display_name": "Python 3 (ipykernel)",
   "language": "python",
   "name": "python3"
  },
  "language_info": {
   "codemirror_mode": {
    "name": "ipython",
    "version": 3
   },
   "file_extension": ".py",
   "mimetype": "text/x-python",
   "name": "python",
   "nbconvert_exporter": "python",
   "pygments_lexer": "ipython3",
   "version": "3.11.5"
  }
 },
 "nbformat": 4,
 "nbformat_minor": 5
}
